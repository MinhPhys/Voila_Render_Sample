{
 "cells": [
  {
   "cell_type": "markdown",
   "metadata": {},
   "source": [
    "## Roark's Formulas - Bending calculations chapter\n",
    "\n",
    "Ref: Chapter 9, tab 8.1, formula a\n",
    "\n",
    "Roark's Formulas for Stress and Strain\n",
    "\n",
    "CHAPTER 8 Beams; Flexure of Straight Bars\n",
    "\n",
    "TABLE 8.1 Shear, Moment, Slope, and Deflection Formulas for Elastic Straight Beams\n",
    "\n",
    "1. Concentrated intermediate load\n",
    "\n",
    "1a. Left end free, right end fixed (cantilever)\n",
    "\n",
    "Rev: 0\n",
    "\n",
    "Date: February. 18th, 2022\n",
    "\n",
    "Made by: Minh LE"
   ]
  },
  {
   "cell_type": "code",
   "execution_count": 1,
   "metadata": {},
   "outputs": [],
   "source": [
    "# Python librairies imports\n",
    "# import plotly as py\n",
    "# import plotly.graph_objs as go\n",
    "# import matplotlib.pyplot as plt\n",
    "# import plotly.express as px\n",
    "from ipywidgets import FloatSlider, HBox, VBox\n",
    "import bqplot.pyplot as plt\n",
    "from ipywidgets import *\n",
    "from bqplot import Toolbar\n",
    "\n",
    "import numpy as np\n",
    "\n",
    "from IPython.display import Markdown as md\n",
    "from IPython.display import Image, display\n"
   ]
  },
  {
   "cell_type": "markdown",
   "metadata": {},
   "source": [
    "### I) Input\n",
    "<em>Notation</em>: $W$ = load (force); $w$ =unit load (force per unit length); $M_0$ = applied couple (force-length); $\\theta_0$ externally created concentrated angular displacement (radians); $\\Delta_0$ = externally created concentrated lateral displacement; $T_1$ and $T_2$ = temperatures on the top and bottom surfaces, respectively (degrees). $R_A$ and $R_B$ are the vertical end reactions at the left and right, respectively, and are positive upward. $M_A$ and $M_B$ are the reaction end moments at the left and right, respectively. All moments are positive when producing compression on the upper portion of the beam cross section. The transverse shear force $V$ is positive when acting upward on the left end of a portion of the beam. All applied loads, couples, and displacements are positive as shown.\n",
    "\n",
    "All deflections are positive upward, and all slopes are positive when up and to the right. $E$ is the modulus of elasticity of the beam material, and $I$ is the area moment of inertia about the centroidal axis of the beam cross section. $\\gamma$ is the temperature coefficient of expansion (unit strain per degree).\n",
    "\n",
    "![Left end free, right end fixed (cantilever)](images_lib/case1_page203.png)\n",
    "\n",
    "Users need to specify principal information, parameters and dimensions.\n",
    "![Left end free, right end fixed (cantilever)](images_lib/case1a_page203.png)"
   ]
  },
  {
   "cell_type": "code",
   "execution_count": 3,
   "metadata": {},
   "outputs": [],
   "source": [
    "W = 150. #(lb)\n",
    "a = 0. #(in)\n",
    "l = 40. #(in)\n",
    "E = 1300000. # (lb/in2)\n",
    "I = (2. * 4.**3.)/12. #(in4)"
   ]
  },
  {
   "cell_type": "code",
   "execution_count": 4,
   "metadata": {},
   "outputs": [],
   "source": [
    "class compute_tab8p1a:\n",
    "    def __init__(self, a=a, W=W, l=l, E=E, I=I):\n",
    "        self.W = W\n",
    "        self.a = a\n",
    "        self.l = l\n",
    "        self.E = E\n",
    "        self.I = I\n",
    "        \n",
    "    def compute_tab8p1a_fixValues(self):\n",
    "        # Boundary Values\n",
    "        self.R_A = 0.\n",
    "        self.M_A = 0.\n",
    "        self.theta_A = self.W*(self.l-self.a)**2. / (2.*self.E*self.I)\n",
    "        self.y_A = -(self.W/(6.*self.E*self.I)) * (2.*self.l**3.-3*self.l**2.*self.a+self.a**3.)\n",
    "        #\n",
    "        self.R_B = self.W\n",
    "        self.M_B = -self.W*(self.l-self.a)\n",
    "        self.theta_B = 0.\n",
    "        self.y_B = 0.\n",
    "        # Selected Maximum Values of Moments and Deformations\n",
    "        self.M_max = self.M_B   #Max moment, found at B\n",
    "        self.theta_max = self.theta_A   #Max slope, found at A\n",
    "        self.y_max = self.y_A   #Max deflection, found at A\n",
    "        self.M_max_fa = -self.W*self.l   #Max moment, found at B, when a=0, (fa signifie f(a))\n",
    "        self.theta_max_fa = self.W*self.l**2./(2.*self.E*self.I)   #Max slope, found at A, when a=0, (fa signifie f(a))\n",
    "        self.y_max_fa = -(self.W*self.l**3.)/(3.*self.E*self.I)   #Max deflection, found at A, when a=0, (fa signifie f(a))\n",
    "        return self.y_A, self.theta_A, self.M_A, self.R_A, self.y_max_fa, self.theta_max_fa, self.M_max_fa, self.M_B\n",
    "\n",
    "    def list_tab8p1a_values(self):\n",
    "        self.compute_tab8p1a_fixValues()\n",
    "        # Selected Maximum Values of Moments and Deformations\n",
    "        print('Max moment, found at B: \\n', self.M_B, '\\n')\n",
    "        print('Max slope, found at A: \\n', self.theta_A, '\\n')\n",
    "        print('Max deflection, found at A: \\n', self.y_A, '\\n')\n",
    "\n",
    "    def compute_tab8p1a_deflect(self, x):\n",
    "        self.compute_tab8p1a_fixValues()\n",
    "        self.y_x = self.y_A + self.theta_A*x + self.M_A*x**2./(2.*self.E*self.I) + self.R_A*x**3./(6.*self.E*self.I) - \\\n",
    "                    self.W*(x-self.a)**3.*np.heaviside((x-self.a),0.)/(6.*E*I) #Deflection\n",
    "        return self.y_x\n",
    "\n",
    "    def draw_tab8p1a_deflect(self):\n",
    "        x=np.linspace(0,l,200) #Array\n",
    "        y0=np.linspace(0,0,200) #Zero array\n",
    "        y = self.compute_tab8p1a_deflect(x)\n",
    "        xy_plot(\n",
    "            ('Deflection', x, y, {\"mode\": 'lines'}),  \n",
    "            ('y = 0', x, y0, {\"mode\": 'lines', \"color\": \"black\"}),\n",
    "            x_label='Length in ft', y_label='Deflection in lb.ft', \n",
    "            title=f'Case 1a. Left end free, right end fixed (cantilever), length {l} m\\\n",
    "            <br>Concentrated force {self.W} N applied at {self.a} m from free end', \n",
    "            annotation='',\n",
    "        ).show()\n",
    "\n",
    "    def compute_tab8p1a_shear(x, a=a, W=W):\n",
    "        y_A, theta_A, M_A, R_A, y_max_fa, theta_max_fa, M_max_fa, M_B = compute_tab8p1a_fixValues(a=a, W=W)\n",
    "        V_x = R_A-W*np.heaviside((x-a),0.) #Transverse shearn\n",
    "        return V_x\n",
    "\n",
    "    def compute_tab8p1a_moment(self, x):\n",
    "        self.compute_tab8p1a_fixValues()\n",
    "        self.M_x = self.M_A+self.R_A*x-self.W*(x-self.a)*np.heaviside((x-self.a),0.) #Bending Moment\n",
    "        return self.M_x\n",
    "\n",
    "    def draw_tab8p1a_moment(self):\n",
    "        x=np.linspace(0,l,200) #Array\n",
    "        y0=np.linspace(0,0,200) #Zero array\n",
    "        y = self.compute_tab8p1a_moment(x)\n",
    "        xy_plot(\n",
    "            ('Bending Moment', x, y, {\"mode\": 'lines'}),  \n",
    "            ('y = 0', x, y0, {\"mode\": 'lines', \"color\": \"black\"}),\n",
    "            x_label='Length in ft', y_label='Bending Moment in lb.ft', \n",
    "            title=f'Case 1a. Left end free, right end fixed (cantilever), length {l} m\\\n",
    "            <br>Concentrated force {W} N applied at {a} m from free end', \n",
    "            annotation='',\n",
    "        ).show()\n",
    "\n",
    "    def compute_tab8p1a_slope(x, a=a, W=W):\n",
    "        y_A, theta_A, M_A, R_A, y_max_fa, theta_max_fa, M_max_fa, M_B = compute_tab8p1a_fixValues(a=a, W=W)\n",
    "        theta_x = theta_A + M_A*x/(E*I) + R_A*x**2./(2.*E*I) - W*(x-a)**2.*np.heaviside((x-a),0.)/(2.*E*I) #Slope\n",
    "        return theta_x"
   ]
  },
  {
   "cell_type": "markdown",
   "metadata": {},
   "source": [
    "### II) Results: Values and graphic plots\n",
    "Selected results and plots"
   ]
  },
  {
   "cell_type": "markdown",
   "metadata": {},
   "source": [
    "#### Selected Maximum Values of Moments and Deformations"
   ]
  },
  {
   "cell_type": "code",
   "execution_count": 5,
   "metadata": {},
   "outputs": [
    {
     "name": "stdout",
     "output_type": "stream",
     "text": [
      "Max moment, found at B: \n",
      " -6000.0 \n",
      "\n",
      "Max slope, found at A: \n",
      " 0.008653846153846154 \n",
      "\n",
      "Max deflection, found at A: \n",
      " -0.23076923076923075 \n",
      "\n"
     ]
    }
   ],
   "source": [
    "compute_tab8p1a().list_tab8p1a_values()"
   ]
  },
  {
   "cell_type": "markdown",
   "metadata": {},
   "source": [
    "#### Interactive Deflection plots with slider W and a"
   ]
  },
  {
   "cell_type": "code",
   "execution_count": 8,
   "metadata": {},
   "outputs": [],
   "source": [
    "x = np.linspace(0., l, 200)\n",
    "y = compute_tab8p1a().compute_tab8p1a_deflect(x)\n",
    "\n",
    "# plot the deflection\n",
    "title_tmpl = 'Bending (W = {} and a = {})'\n",
    "pdf_fig = plt.figure(title=title_tmpl.format(150., 0.))\n",
    "pdf_fig.layout.width = '600px'\n",
    "pdf_fig.layout.height = '400px'\n",
    "pdf_line = plt.plot(x, y, 'm', stroke_width=3)\n",
    "\n",
    "# use two sliders to represent W and a\n",
    "W_slider = FloatSlider(description='$W$', value=150, min=0, max=300, step=10.)\n",
    "a_slider = FloatSlider(description='$a$', value=0, min=0, max=l, step=1.)\n",
    "slider_layout = HBox([W_slider, a_slider])\n",
    "\n",
    "def update_deflect_aW(change):\n",
    "    new_a = a_slider.value\n",
    "    new_W = W_slider.value\n",
    "    pdf_line.y = compute_tab8p1a(a=new_a, W=new_W).compute_tab8p1a_deflect(x)\n",
    "    pdf_fig.title = title_tmpl.format(new_W, new_a)\n",
    "\n",
    "# register the above callback with the 'value' trait of the sliders\n",
    "for slider in [W_slider, a_slider]:\n",
    "    slider.observe(update_deflect_aW, 'value')\n",
    "\n",
    "# VBox([pdf_fig, slider_layout])"
   ]
  },
  {
   "cell_type": "code",
   "execution_count": 9,
   "metadata": {},
   "outputs": [],
   "source": [
    "txt_layout = Layout(width='200px')\n",
    "E_box = FloatText(description='$E$', \n",
    "                    style={'description_width':'initial'}, \n",
    "                    layout=txt_layout, value=E)\n",
    "I_box = FloatText(description='$I$', \n",
    "                    layout=txt_layout, value=I)\n",
    "l_box = FloatText(description='$l$', \n",
    "                    layout=txt_layout, value=l)\n",
    "\n",
    "go_btn = Button(description='GO', button_style='success', layout=Layout(width='50px'))\n",
    "\n",
    "def update_deflect_lEI():\n",
    "    #pdf_line.y = compute_tab8p1a(l=l_box.value, E=E_box.value, I=I_box.value).compute_tab8p1a_deflect(x)\n",
    "    x = np.linspace(0., l_box.value, 200)\n",
    "    a_slider.max = l_box.value\n",
    "    slider_layout = HBox([W_slider, a_slider])\n",
    "    pdf_line.x = x\n",
    "    pdf_line.y = compute_tab8p1a(l=l_box.value, E=E_box.value, I=I_box.value).compute_tab8p1a_deflect(x)\n",
    "    def update_deflect_aW(change):\n",
    "        new_a = a_slider.value\n",
    "        new_W = W_slider.value\n",
    "        pdf_line.y = compute_tab8p1a(a=new_a, W=new_W, l=l_box.value, E=E_box.value, I=I_box.value).compute_tab8p1a_deflect(x)\n",
    "        pdf_fig.title = title_tmpl.format(new_W, new_a)\n",
    "\n",
    "    # register the above callback with the 'value' trait of the sliders\n",
    "    for slider in [W_slider, a_slider]:\n",
    "        slider.observe(update_deflect_aW, 'value')\n",
    "\n",
    "go_btn.on_click(lambda btn: update_deflect_lEI())"
   ]
  },
  {
   "cell_type": "code",
   "execution_count": 10,
   "metadata": {},
   "outputs": [
    {
     "data": {
      "application/vnd.jupyter.widget-view+json": {
       "model_id": "8223e1e4f5ee4de99ecbbc075bb06e30",
       "version_major": 2,
       "version_minor": 0
      },
      "text/plain": [
       "HBox(children=(VBox(children=(Figure(axes=[Axis(scale=LinearScale()), Axis(orientation='vertical', scale=Linea…"
      ]
     },
     "metadata": {},
     "output_type": "display_data"
    }
   ],
   "source": [
    "# left_box = VBox([slider_layout])\n",
    "left_box = VBox([pdf_fig, slider_layout])\n",
    "right_box = VBox([E_box, I_box, l_box, go_btn])\n",
    "HBox([left_box, right_box])"
   ]
  },
  {
   "cell_type": "code",
   "execution_count": null,
   "metadata": {},
   "outputs": [],
   "source": []
  }
 ],
 "metadata": {
  "kernelspec": {
   "display_name": "Python 3",
   "language": "python",
   "name": "python3"
  },
  "language_info": {
   "codemirror_mode": {
    "name": "ipython",
    "version": 3
   },
   "file_extension": ".py",
   "mimetype": "text/x-python",
   "name": "python",
   "nbconvert_exporter": "python",
   "pygments_lexer": "ipython3",
   "version": "3.7.8"
  }
 },
 "nbformat": 4,
 "nbformat_minor": 4
}
